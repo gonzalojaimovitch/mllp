{
  "cells": [
    {
      "cell_type": "code",
      "execution_count": 1,
      "metadata": {
        "colab": {
          "base_uri": "https://localhost:8080/"
        },
        "id": "ZVZFPIucjQMB",
        "outputId": "b19d8b33-9359-4e6d-ec50-14f551f45fc5"
      },
      "outputs": [
        {
          "name": "stdout",
          "output_type": "stream",
          "text": [
            "running install\n",
            "/Users/gonzalojaimovitch/Documents/projects/tfm/git/mllp/venv/lib/python3.11/site-packages/setuptools/command/install.py:34: SetuptoolsDeprecationWarning: setup.py install is deprecated. Use build and pip and other standards-based tools.\n",
            "  warnings.warn(\n",
            "/Users/gonzalojaimovitch/Documents/projects/tfm/git/mllp/venv/lib/python3.11/site-packages/setuptools/command/easy_install.py:144: EasyInstallDeprecationWarning: easy_install command is deprecated. Use build and pip and other standards-based tools.\n",
            "  warnings.warn(\n",
            "running bdist_egg\n",
            "running egg_info\n",
            "writing mllp.egg-info/PKG-INFO\n",
            "writing dependency_links to mllp.egg-info/dependency_links.txt\n",
            "writing top-level names to mllp.egg-info/top_level.txt\n",
            "reading manifest file 'mllp.egg-info/SOURCES.txt'\n",
            "adding license file 'LICENSE'\n",
            "writing manifest file 'mllp.egg-info/SOURCES.txt'\n",
            "installing library code to build/bdist.macosx-13.3-x86_64/egg\n",
            "running install_lib\n",
            "running build_py\n",
            "creating build/bdist.macosx-13.3-x86_64/egg\n",
            "creating build/bdist.macosx-13.3-x86_64/egg/mllp\n",
            "copying build/lib/mllp/models.py -> build/bdist.macosx-13.3-x86_64/egg/mllp\n",
            "copying build/lib/mllp/discretizer.py -> build/bdist.macosx-13.3-x86_64/egg/mllp\n",
            "copying build/lib/mllp/__init__.py -> build/bdist.macosx-13.3-x86_64/egg/mllp\n",
            "copying build/lib/mllp/utils.py -> build/bdist.macosx-13.3-x86_64/egg/mllp\n",
            "byte-compiling build/bdist.macosx-13.3-x86_64/egg/mllp/models.py to models.cpython-311.pyc\n",
            "byte-compiling build/bdist.macosx-13.3-x86_64/egg/mllp/discretizer.py to discretizer.cpython-311.pyc\n",
            "byte-compiling build/bdist.macosx-13.3-x86_64/egg/mllp/__init__.py to __init__.cpython-311.pyc\n",
            "byte-compiling build/bdist.macosx-13.3-x86_64/egg/mllp/utils.py to utils.cpython-311.pyc\n",
            "creating build/bdist.macosx-13.3-x86_64/egg/EGG-INFO\n",
            "copying mllp.egg-info/PKG-INFO -> build/bdist.macosx-13.3-x86_64/egg/EGG-INFO\n",
            "copying mllp.egg-info/SOURCES.txt -> build/bdist.macosx-13.3-x86_64/egg/EGG-INFO\n",
            "copying mllp.egg-info/dependency_links.txt -> build/bdist.macosx-13.3-x86_64/egg/EGG-INFO\n",
            "copying mllp.egg-info/top_level.txt -> build/bdist.macosx-13.3-x86_64/egg/EGG-INFO\n",
            "zip_safe flag not set; analyzing archive contents...\n",
            "creating 'dist/mllp-0.1.0-py3.11.egg' and adding 'build/bdist.macosx-13.3-x86_64/egg' to it\n",
            "removing 'build/bdist.macosx-13.3-x86_64/egg' (and everything under it)\n",
            "Processing mllp-0.1.0-py3.11.egg\n",
            "Removing /Users/gonzalojaimovitch/Documents/projects/tfm/git/mllp/venv/lib/python3.11/site-packages/mllp-0.1.0-py3.11.egg\n",
            "Copying mllp-0.1.0-py3.11.egg to /Users/gonzalojaimovitch/Documents/projects/tfm/git/mllp/venv/lib/python3.11/site-packages\n",
            "mllp 0.1.0 is already the active version in easy-install.pth\n",
            "\n",
            "Installed /Users/gonzalojaimovitch/Documents/projects/tfm/git/mllp/venv/lib/python3.11/site-packages/mllp-0.1.0-py3.11.egg\n",
            "Processing dependencies for mllp==0.1.0\n",
            "Finished processing dependencies for mllp==0.1.0\n"
          ]
        }
      ],
      "source": [
        "!python3 setup.py install"
      ]
    },
    {
      "cell_type": "code",
      "execution_count": 6,
      "metadata": {
        "colab": {
          "base_uri": "https://localhost:8080/"
        },
        "id": "K7DaFcjDhWDB",
        "outputId": "4a0b303f-2719-494c-aaf2-50675150c046"
      },
      "outputs": [
        {
          "name": "stdout",
          "output_type": "stream",
          "text": [
            "^C\n",
            "Traceback (most recent call last):\n",
            "  File \"/Users/gonzalojaimovitch/Documents/projects/tfm/git/mllp/experiments.py\", line 7, in <module>\n",
            "    import matplotlib.pyplot as plt\n",
            "  File \"/Users/gonzalojaimovitch/Documents/projects/tfm/git/mllp/venv/lib/python3.11/site-packages/matplotlib/pyplot.py\", line 56, in <module>\n",
            "    import matplotlib.colorbar\n",
            "  File \"/Users/gonzalojaimovitch/Documents/projects/tfm/git/mllp/venv/lib/python3.11/site-packages/matplotlib/colorbar.py\", line 19, in <module>\n",
            "    from matplotlib import _api, cbook, collections, cm, colors, contour, ticker\n",
            "  File \"/Users/gonzalojaimovitch/Documents/projects/tfm/git/mllp/venv/lib/python3.11/site-packages/matplotlib/contour.py\", line 15, in <module>\n",
            "    from matplotlib.backend_bases import MouseButton\n",
            "  File \"/Users/gonzalojaimovitch/Documents/projects/tfm/git/mllp/venv/lib/python3.11/site-packages/matplotlib/backend_bases.py\", line 50, in <module>\n",
            "    from matplotlib.backend_managers import ToolManager\n",
            "  File \"<frozen importlib._bootstrap>\", line 1178, in _find_and_load\n",
            "  File \"<frozen importlib._bootstrap>\", line 1149, in _find_and_load_unlocked\n",
            "  File \"<frozen importlib._bootstrap>\", line 690, in _load_unlocked\n",
            "  File \"<frozen importlib._bootstrap_external>\", line 936, in exec_module\n",
            "  File \"<frozen importlib._bootstrap_external>\", line 1032, in get_code\n",
            "  File \"<frozen importlib._bootstrap_external>\", line 1131, in get_data\n",
            "KeyboardInterrupt\n",
            "/Users/gonzalojaimovitch/Documents/projects/tfm/git/mllp/venv/lib/python3.11/site-packages/sklearn/base.py:493: UserWarning: X does not have valid feature names, but OneHotEncoder was fitted with feature names\n",
            "  warnings.warn(\n",
            "/Users/gonzalojaimovitch/Documents/projects/tfm/git/mllp/venv/lib/python3.11/site-packages/sklearn/base.py:493: UserWarning: X does not have valid feature names, but OneHotEncoder was fitted with feature names\n",
            "  warnings.warn(\n"
          ]
        }
      ],
      "source": [
        "# Table 1 experiments with \n",
        "!python3 experiments.py -d tic-tac-toe -k 5 -ki 0 -e 400 -bs 128 -lr 0.005 -lrdr 0.75 -lrde 100 -wd 0.00000001 -p 0.0 -s 32_32_32\n",
        "!python3 experiments.py -d tic-tac-toe -k 5 -ki 0 -e 400 -bs 128 -lr 0.005 -lrdr 0.75 -lrde 100 -wd 0.00000001 -p 0.0 -s 64_64_64\n",
        "!python3 experiments.py -d tic-tac-toe -k 5 -ki 0 -e 400 -bs 128 -lr 0.005 -lrdr 0.75 -lrde 100 -wd 0.00000001 -p 0.0 -s 128_128_128\n",
        "!python3 experiments.py -d tic-tac-toe -k 5 -ki 0 -e 400 -bs 128 -lr 0.005 -lrdr 0.75 -lrde 100 -wd 0.00000001 -p 0.0 -s 256_256_256\n",
        "!python3 experiments.py -d adult -k 5 -ki 0 -e 400 -bs 128 -lr 0.005 -lrdr 0.75 -lrde 100 -wd 0.00000001 -p 0.0 -s 32_32_32\n",
        "!python3 experiments.py -d adult -k 5 -ki 0 -e 400 -bs 128 -lr 0.005 -lrdr 0.75 -lrde 100 -wd 0.00000001 -p 0.0 -s 64_64_64\n",
        "!python3 experiments.py -d adult -k 5 -ki 0 -e 400 -bs 128 -lr 0.005 -lrdr 0.75 -lrde 100 -wd 0.00000001 -p 0.0 -s 128_128_128\n",
        "!python3 experiments.py -d adult -k 5 -ki 0 -e 400 -bs 128 -lr 0.005 -lrdr 0.75 -lrde 100 -wd 0.00000001 -p 0.0 -s 256_256_256\n",
        "!python3 experiments.py -d connect-4 -k 5 -ki 0 -e 400 -bs 128 -lr 0.005 -lrdr 0.75 -lrde 100 -wd 0.00000001 -p 0.0 -s 32_32_32\n",
        "!python3 experiments.py -d connect-4 -k 5 -ki 0 -e 400 -bs 128 -lr 0.005 -lrdr 0.75 -lrde 100 -wd 0.00000001 -p 0.0 -s 64_64_64\n",
        "!python3 experiments.py -d connect-4 -k 5 -ki 0 -e 400 -bs 128 -lr 0.005 -lrdr 0.75 -lrde 100 -wd 0.00000001 -p 0.0 -s 128_128_128\n",
        "!python3 experiments.py -d connect-4 -k 5 -ki 0 -e 400 -bs 128 -lr 0.005 -lrdr 0.75 -lrde 100 -wd 0.00000001 -p 0.0 -s 256_256_256\n",
        "\n",
        "!python3 experiments.py -d connect-4 -k 5 -ki 0 -e 400 -bs 128 -lr 0.005 -lrdr 0.75 -lrde 100 -wd 0.00000001 -p 0.0 -s 32\n",
        "!python3 experiments.py -d connect-4 -k 5 -ki 0 -e 400 -bs 128 -lr 0.005 -lrdr 0.75 -lrde 100 -wd 0.00000001 -p 0.0 -s 64\n",
        "!python3 experiments.py -d connect-4 -k 5 -ki 0 -e 400 -bs 128 -lr 0.005 -lrdr 0.75 -lrde 100 -wd 0.00000001 -p 0.0 -s 128\n",
        "!python3 experiments.py -d connect-4 -k 5 -ki 0 -e 400 -bs 128 -lr 0.005 -lrdr 0.75 -lrde 100 -wd 0.00000001 -p 0.0 -s 256\n",
        "\n",
        "!python3 experiments.py -d connect-4 -k 5 -ki 0 -e 400 -bs 128 -lr 0.005 -lrdr 0.75 -lrde 100 -wd 0.00000001 -p 0.9 -s 32\n",
        "!python3 experiments.py -d connect-4 -k 5 -ki 0 -e 400 -bs 128 -lr 0.005 -lrdr 0.75 -lrde 100 -wd 0.00000001 -p 0.9 -s 64\n",
        "!python3 experiments.py -d connect-4 -k 5 -ki 0 -e 400 -bs 128 -lr 0.005 -lrdr 0.75 -lrde 100 -wd 0.00000001 -p 0.9 -s 128\n",
        "!python3 experiments.py -d connect-4 -k 5 -ki 0 -e 400 -bs 128 -lr 0.005 -lrdr 0.75 -lrde 100 -wd 0.00000001 -p 0.9 -s 256"
      ]
    },
    {
      "cell_type": "code",
      "execution_count": 2,
      "metadata": {},
      "outputs": [
        {
          "name": "stdout",
          "output_type": "stream",
          "text": [
            "/Users/gonzalojaimovitch/Documents/projects/tfm/git/mllp/venv/lib/python3.11/site-packages/sklearn/base.py:493: UserWarning: X does not have valid feature names, but OneHotEncoder was fitted with feature names\n",
            "  warnings.warn(\n",
            "/Users/gonzalojaimovitch/Documents/projects/tfm/git/mllp/venv/lib/python3.11/site-packages/sklearn/base.py:493: UserWarning: X does not have valid feature names, but OneHotEncoder was fitted with feature names\n",
            "  warnings.warn(\n",
            "^C\n",
            "/Users/gonzalojaimovitch/Documents/projects/tfm/git/mllp/venv/lib/python3.11/site-packages/sklearn/base.py:493: UserWarning: X does not have valid feature names, but OneHotEncoder was fitted with feature names\n",
            "  warnings.warn(\n",
            "/Users/gonzalojaimovitch/Documents/projects/tfm/git/mllp/venv/lib/python3.11/site-packages/sklearn/base.py:493: UserWarning: X does not have valid feature names, but OneHotEncoder was fitted with feature names\n",
            "  warnings.warn(\n"
          ]
        }
      ],
      "source": [
        "!python3 experiments.py -d connect-4 -k 5 -ki 1 -e 400 -bs 128 -lr 0.005 -lrdr 0.75 -lrde 100 -wd 0.00000001 -p 0.0 -s 32_32_32\n",
        "!python3 experiments.py -d connect-4 -k 5 -ki 2 -e 400 -bs 128 -lr 0.005 -lrdr 0.75 -lrde 100 -wd 0.00000001 -p 0.0 -s 32_32_32\n",
        "!python3 experiments.py -d connect-4 -k 5 -ki 3 -e 400 -bs 128 -lr 0.005 -lrdr 0.75 -lrde 100 -wd 0.00000001 -p 0.0 -s 32_32_32\n",
        "!python3 experiments.py -d connect-4 -k 5 -ki 4 -e 400 -bs 128 -lr 0.005 -lrdr 0.75 -lrde 100 -wd 0.00000001 -p 0.0 -s 32_32_32\n",
        "!python3 experiments.py -d connect-4 -k 5 -ki 0 -e 400 -bs 128 -lr 0.005 -lrdr 0.75 -lrde 100 -wd 0.00000001 -p 0.0 -s 64_64_64\n",
        "!python3 experiments.py -d connect-4 -k 5 -ki 1 -e 400 -bs 128 -lr 0.005 -lrdr 0.75 -lrde 100 -wd 0.00000001 -p 0.0 -s 64_64_64\n",
        "!python3 experiments.py -d connect-4 -k 5 -ki 2 -e 400 -bs 128 -lr 0.005 -lrdr 0.75 -lrde 100 -wd 0.00000001 -p 0.0 -s 64_64_64\n",
        "!python3 experiments.py -d connect-4 -k 5 -ki 3 -e 400 -bs 128 -lr 0.005 -lrdr 0.75 -lrde 100 -wd 0.00000001 -p 0.0 -s 64_64_64\n",
        "!python3 experiments.py -d connect-4 -k 5 -ki 4 -e 400 -bs 128 -lr 0.005 -lrdr 0.75 -lrde 100 -wd 0.00000001 -p 0.0 -s 64_64_64\n",
        "!python3 experiments.py -d connect-4 -k 5 -ki 0 -e 400 -bs 128 -lr 0.005 -lrdr 0.75 -lrde 100 -wd 0.00000001 -p 0.0 -s 128_128_128\n",
        "!python3 experiments.py -d connect-4 -k 5 -ki 1 -e 400 -bs 128 -lr 0.005 -lrdr 0.75 -lrde 100 -wd 0.00000001 -p 0.0 -s 128_128_128\n",
        "!python3 experiments.py -d connect-4 -k 5 -ki 2 -e 400 -bs 128 -lr 0.005 -lrdr 0.75 -lrde 100 -wd 0.00000001 -p 0.0 -s 128_128_128\n",
        "!python3 experiments.py -d connect-4 -k 5 -ki 3 -e 400 -bs 128 -lr 0.005 -lrdr 0.75 -lrde 100 -wd 0.00000001 -p 0.0 -s 128_128_128\n",
        "!python3 experiments.py -d connect-4 -k 5 -ki 4 -e 400 -bs 128 -lr 0.005 -lrdr 0.75 -lrde 100 -wd 0.00000001 -p 0.0 -s 128_128_128\n",
        "!python3 experiments.py -d connect-4 -k 5 -ki 0 -e 400 -bs 128 -lr 0.005 -lrdr 0.75 -lrde 100 -wd 0.00000001 -p 0.0 -s 256_256_256\n",
        "!python3 experiments.py -d connect-4 -k 5 -ki 1 -e 400 -bs 128 -lr 0.005 -lrdr 0.75 -lrde 100 -wd 0.00000001 -p 0.0 -s 256_256_256\n",
        "!python3 experiments.py -d connect-4 -k 5 -ki 2 -e 400 -bs 128 -lr 0.005 -lrdr 0.75 -lrde 100 -wd 0.00000001 -p 0.0 -s 256_256_256\n",
        "!python3 experiments.py -d connect-4 -k 5 -ki 3 -e 400 -bs 128 -lr 0.005 -lrdr 0.75 -lrde 100 -wd 0.00000001 -p 0.0 -s 256_256_256\n",
        "!python3 experiments.py -d connect-4 -k 5 -ki 4 -e 400 -bs 128 -lr 0.005 -lrdr 0.75 -lrde 100 -wd 0.00000001 -p 0.0 -s 256_256_256"
      ]
    },
    {
      "cell_type": "code",
      "execution_count": null,
      "metadata": {},
      "outputs": [],
      "source": [
        "!python3 experiments.py -d connect-4 -k 5 -ki 0 -e 400 -bs 128 -lr 0.005 -lrdr 0.75 -lrde 100 -wd 0.00000001 -p 0.5 -s 32_32_32\n",
        "!python3 experiments.py -d connect-4 -k 5 -ki 1 -e 400 -bs 128 -lr 0.005 -lrdr 0.75 -lrde 100 -wd 0.00000001 -p 0.5 -s 32_32_32\n",
        "!python3 experiments.py -d connect-4 -k 5 -ki 2 -e 400 -bs 128 -lr 0.005 -lrdr 0.75 -lrde 100 -wd 0.00000001 -p 0.5 -s 32_32_32\n",
        "!python3 experiments.py -d connect-4 -k 5 -ki 3 -e 400 -bs 128 -lr 0.005 -lrdr 0.75 -lrde 100 -wd 0.00000001 -p 0.5 -s 32_32_32\n",
        "!python3 experiments.py -d connect-4 -k 5 -ki 4 -e 400 -bs 128 -lr 0.005 -lrdr 0.75 -lrde 100 -wd 0.00000001 -p 0.5 -s 32_32_32\n",
        "!python3 experiments.py -d connect-4 -k 5 -ki 0 -e 400 -bs 128 -lr 0.005 -lrdr 0.75 -lrde 100 -wd 0.00000001 -p 0.5 -s 64_64_64\n",
        "!python3 experiments.py -d connect-4 -k 5 -ki 1 -e 400 -bs 128 -lr 0.005 -lrdr 0.75 -lrde 100 -wd 0.00000001 -p 0.5 -s 64_64_64\n",
        "!python3 experiments.py -d connect-4 -k 5 -ki 2 -e 400 -bs 128 -lr 0.005 -lrdr 0.75 -lrde 100 -wd 0.00000001 -p 0.5 -s 64_64_64\n",
        "!python3 experiments.py -d connect-4 -k 5 -ki 3 -e 400 -bs 128 -lr 0.005 -lrdr 0.75 -lrde 100 -wd 0.00000001 -p 0.5 -s 64_64_64\n",
        "!python3 experiments.py -d connect-4 -k 5 -ki 4 -e 400 -bs 128 -lr 0.005 -lrdr 0.75 -lrde 100 -wd 0.00000001 -p 0.5 -s 64_64_64\n",
        "!python3 experiments.py -d connect-4 -k 5 -ki 0 -e 400 -bs 128 -lr 0.005 -lrdr 0.75 -lrde 100 -wd 0.00000001 -p 0.5 -s 128_128_128\n",
        "!python3 experiments.py -d connect-4 -k 5 -ki 1 -e 400 -bs 128 -lr 0.005 -lrdr 0.75 -lrde 100 -wd 0.00000001 -p 0.5 -s 128_128_128\n",
        "!python3 experiments.py -d connect-4 -k 5 -ki 2 -e 400 -bs 128 -lr 0.005 -lrdr 0.75 -lrde 100 -wd 0.00000001 -p 0.5 -s 128_128_128\n",
        "!python3 experiments.py -d connect-4 -k 5 -ki 3 -e 400 -bs 128 -lr 0.005 -lrdr 0.75 -lrde 100 -wd 0.00000001 -p 0.5 -s 128_128_128\n",
        "!python3 experiments.py -d connect-4 -k 5 -ki 4 -e 400 -bs 128 -lr 0.005 -lrdr 0.75 -lrde 100 -wd 0.00000001 -p 0.5 -s 128_128_128\n",
        "!python3 experiments.py -d connect-4 -k 5 -ki 0 -e 400 -bs 128 -lr 0.005 -lrdr 0.75 -lrde 100 -wd 0.00000001 -p 0.5 -s 256_256_256\n",
        "!python3 experiments.py -d connect-4 -k 5 -ki 1 -e 400 -bs 128 -lr 0.005 -lrdr 0.75 -lrde 100 -wd 0.00000001 -p 0.5 -s 256_256_256\n",
        "!python3 experiments.py -d connect-4 -k 5 -ki 2 -e 400 -bs 128 -lr 0.005 -lrdr 0.75 -lrde 100 -wd 0.00000001 -p 0.5 -s 256_256_256\n",
        "!python3 experiments.py -d connect-4 -k 5 -ki 3 -e 400 -bs 128 -lr 0.005 -lrdr 0.75 -lrde 100 -wd 0.00000001 -p 0.5 -s 256_256_256\n",
        "!python3 experiments.py -d connect-4 -k 5 -ki 4 -e 400 -bs 128 -lr 0.005 -lrdr 0.75 -lrde 100 -wd 0.00000001 -p 0.5 -s 256_256_256"
      ]
    },
    {
      "cell_type": "code",
      "execution_count": null,
      "metadata": {},
      "outputs": [],
      "source": [
        "!python3 experiments.py -d connect-4 -k 5 -ki 0 -e 400 -bs 128 -lr 0.005 -lrdr 0.75 -lrde 100 -wd 0.00000001 -p 0.9 -s 32_32_32\n",
        "!python3 experiments.py -d connect-4 -k 5 -ki 1 -e 400 -bs 128 -lr 0.005 -lrdr 0.75 -lrde 100 -wd 0.00000001 -p 0.9 -s 32_32_32\n",
        "!python3 experiments.py -d connect-4 -k 5 -ki 2 -e 400 -bs 128 -lr 0.005 -lrdr 0.75 -lrde 100 -wd 0.00000001 -p 0.9 -s 32_32_32\n",
        "!python3 experiments.py -d connect-4 -k 5 -ki 3 -e 400 -bs 128 -lr 0.005 -lrdr 0.75 -lrde 100 -wd 0.00000001 -p 0.9 -s 32_32_32\n",
        "!python3 experiments.py -d connect-4 -k 5 -ki 4 -e 400 -bs 128 -lr 0.005 -lrdr 0.75 -lrde 100 -wd 0.00000001 -p 0.9 -s 32_32_32\n",
        "!python3 experiments.py -d connect-4 -k 5 -ki 0 -e 400 -bs 128 -lr 0.005 -lrdr 0.75 -lrde 100 -wd 0.00000001 -p 0.9 -s 64_64_64\n",
        "!python3 experiments.py -d connect-4 -k 5 -ki 1 -e 400 -bs 128 -lr 0.005 -lrdr 0.75 -lrde 100 -wd 0.00000001 -p 0.9 -s 64_64_64\n",
        "!python3 experiments.py -d connect-4 -k 5 -ki 2 -e 400 -bs 128 -lr 0.005 -lrdr 0.75 -lrde 100 -wd 0.00000001 -p 0.9 -s 64_64_64\n",
        "!python3 experiments.py -d connect-4 -k 5 -ki 3 -e 400 -bs 128 -lr 0.005 -lrdr 0.75 -lrde 100 -wd 0.00000001 -p 0.9 -s 64_64_64\n",
        "!python3 experiments.py -d connect-4 -k 5 -ki 4 -e 400 -bs 128 -lr 0.005 -lrdr 0.75 -lrde 100 -wd 0.00000001 -p 0.9 -s 64_64_64\n",
        "!python3 experiments.py -d connect-4 -k 5 -ki 0 -e 400 -bs 128 -lr 0.005 -lrdr 0.75 -lrde 100 -wd 0.00000001 -p 0.9 -s 128_128_128\n",
        "!python3 experiments.py -d connect-4 -k 5 -ki 1 -e 400 -bs 128 -lr 0.005 -lrdr 0.75 -lrde 100 -wd 0.00000001 -p 0.9 -s 128_128_128\n",
        "!python3 experiments.py -d connect-4 -k 5 -ki 2 -e 400 -bs 128 -lr 0.005 -lrdr 0.75 -lrde 100 -wd 0.00000001 -p 0.9 -s 128_128_128\n",
        "!python3 experiments.py -d connect-4 -k 5 -ki 3 -e 400 -bs 128 -lr 0.005 -lrdr 0.75 -lrde 100 -wd 0.00000001 -p 0.9 -s 128_128_128\n",
        "!python3 experiments.py -d connect-4 -k 5 -ki 4 -e 400 -bs 128 -lr 0.005 -lrdr 0.75 -lrde 100 -wd 0.00000001 -p 0.9 -s 128_128_128\n",
        "!python3 experiments.py -d connect-4 -k 5 -ki 0 -e 400 -bs 128 -lr 0.005 -lrdr 0.75 -lrde 100 -wd 0.00000001 -p 0.9 -s 256_256_256\n",
        "!python3 experiments.py -d connect-4 -k 5 -ki 1 -e 400 -bs 128 -lr 0.005 -lrdr 0.75 -lrde 100 -wd 0.00000001 -p 0.9 -s 256_256_256\n",
        "!python3 experiments.py -d connect-4 -k 5 -ki 2 -e 400 -bs 128 -lr 0.005 -lrdr 0.75 -lrde 100 -wd 0.00000001 -p 0.9 -s 256_256_256\n",
        "!python3 experiments.py -d connect-4 -k 5 -ki 3 -e 400 -bs 128 -lr 0.005 -lrdr 0.75 -lrde 100 -wd 0.00000001 -p 0.9 -s 256_256_256\n",
        "!python3 experiments.py -d connect-4 -k 5 -ki 4 -e 400 -bs 128 -lr 0.005 -lrdr 0.75 -lrde 100 -wd 0.00000001 -p 0.9 -s 256_256_256"
      ]
    }
  ],
  "metadata": {
    "accelerator": "GPU",
    "colab": {
      "gpuType": "T4",
      "provenance": []
    },
    "kernelspec": {
      "display_name": "Python 3",
      "name": "python3"
    },
    "language_info": {
      "codemirror_mode": {
        "name": "ipython",
        "version": 3
      },
      "file_extension": ".py",
      "mimetype": "text/x-python",
      "name": "python",
      "nbconvert_exporter": "python",
      "pygments_lexer": "ipython3",
      "version": "3.11.0"
    }
  },
  "nbformat": 4,
  "nbformat_minor": 0
}
